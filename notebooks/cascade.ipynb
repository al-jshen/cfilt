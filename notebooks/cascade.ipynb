{
 "cells": [
  {
   "cell_type": "code",
   "execution_count": 1,
   "id": "ff4524ad-8003-4d86-a5fc-0f9e27c47fb0",
   "metadata": {},
   "outputs": [],
   "source": [
    "%load_ext autoreload"
   ]
  },
  {
   "cell_type": "code",
   "execution_count": 120,
   "id": "9ab0667f-d9fd-42ba-b4e1-1a38be6ca568",
   "metadata": {},
   "outputs": [],
   "source": [
    "%autoreload\n",
    "import copy\n",
    "import sys\n",
    "from collections import OrderedDict\n",
    "\n",
    "import matplotlib.pyplot as plt\n",
    "import numpy as np\n",
    "import torch\n",
    "import torch.nn as nn\n",
    "import torch.nn.functional as F\n",
    "import torchvision.transforms as transforms\n",
    "from functorch import vmap\n",
    "from tqdm.auto import tqdm\n",
    "\n",
    "sys.path.append(\"/scratch/gpfs/js5013/programs/cfilt/\")\n",
    "from cfilt.utils import *"
   ]
  },
  {
   "cell_type": "code",
   "execution_count": 84,
   "id": "470bf496-1bd0-4705-8e29-75cbec460a37",
   "metadata": {},
   "outputs": [],
   "source": [
    "def remove_data_parallel(old_state_dict):\n",
    "    new_state_dict = OrderedDict()\n",
    "\n",
    "    for k, v in old_state_dict.items():\n",
    "        name = k[7:]  # remove `module.`\n",
    "        new_state_dict[name] = v\n",
    "\n",
    "    return new_state_dict"
   ]
  },
  {
   "cell_type": "code",
   "execution_count": 99,
   "id": "ea5834fc-aa6a-4e3b-885d-ebd68367d4a3",
   "metadata": {},
   "outputs": [],
   "source": [
    "class Cascade(nn.Module):\n",
    "    def __init__(self, base_model, load_paths):\n",
    "        super().__init__()\n",
    "        self.models = [copy.deepcopy(base_model) for _ in range(len(load_paths))]\n",
    "        for i, m in tqdm(enumerate(self.models), total=len(load_paths)):\n",
    "            state_dict = torch.load(load_paths[i])\n",
    "            state_dict = remove_data_parallel(state_dict)\n",
    "            m.load_state_dict(state_dict)\n",
    "        self.models = nn.ModuleList(self.models)\n",
    "        self.intermediates = []\n",
    "\n",
    "    def get_intermediates(self):\n",
    "        return self.intermediates\n",
    "\n",
    "    def forward(self, x):\n",
    "        self.intermediates.clear()\n",
    "        for m in self.models:\n",
    "            x = m(x)\n",
    "            self.intermediates.append(x)\n",
    "        return x"
   ]
  },
  {
   "cell_type": "code",
   "execution_count": 86,
   "id": "2840d73d-6ca0-4b76-a10a-387611ff39ef",
   "metadata": {},
   "outputs": [
    {
     "data": {
      "application/vnd.jupyter.widget-view+json": {
       "model_id": "d8164fc726184757b86d77e5b0f39b55",
       "version_major": 2,
       "version_minor": 0
      },
      "text/plain": [
       "  0%|          | 0/9 [00:00<?, ?it/s]"
      ]
     },
     "metadata": {},
     "output_type": "display_data"
    },
    {
     "data": {
      "application/vnd.jupyter.widget-view+json": {
       "model_id": "0de10c9b31fa4b529521092512717f17",
       "version_major": 2,
       "version_minor": 0
      },
      "text/plain": [
       "  0%|          | 0/148 [00:00<?, ?it/s]"
      ]
     },
     "metadata": {},
     "output_type": "display_data"
    },
    {
     "data": {
      "application/vnd.jupyter.widget-view+json": {
       "model_id": "cf6b73eaae2e41189ec978f944cbb734",
       "version_major": 2,
       "version_minor": 0
      },
      "text/plain": [
       "  0%|          | 0/148 [00:00<?, ?it/s]"
      ]
     },
     "metadata": {},
     "output_type": "display_data"
    },
    {
     "data": {
      "application/vnd.jupyter.widget-view+json": {
       "model_id": "8e176a802bd7406b9bef8850644d17de",
       "version_major": 2,
       "version_minor": 0
      },
      "text/plain": [
       "  0%|          | 0/148 [00:00<?, ?it/s]"
      ]
     },
     "metadata": {},
     "output_type": "display_data"
    },
    {
     "data": {
      "application/vnd.jupyter.widget-view+json": {
       "model_id": "d819e50030004ec58a09ba9725ab2272",
       "version_major": 2,
       "version_minor": 0
      },
      "text/plain": [
       "  0%|          | 0/148 [00:00<?, ?it/s]"
      ]
     },
     "metadata": {},
     "output_type": "display_data"
    },
    {
     "data": {
      "application/vnd.jupyter.widget-view+json": {
       "model_id": "602c8a8973f140d488210137f3ae272c",
       "version_major": 2,
       "version_minor": 0
      },
      "text/plain": [
       "  0%|          | 0/148 [00:00<?, ?it/s]"
      ]
     },
     "metadata": {},
     "output_type": "display_data"
    },
    {
     "data": {
      "application/vnd.jupyter.widget-view+json": {
       "model_id": "826310ee7356458a8cff95c138a2fcba",
       "version_major": 2,
       "version_minor": 0
      },
      "text/plain": [
       "  0%|          | 0/148 [00:00<?, ?it/s]"
      ]
     },
     "metadata": {},
     "output_type": "display_data"
    },
    {
     "data": {
      "application/vnd.jupyter.widget-view+json": {
       "model_id": "855d14025a574e48a6f43a4be5c81e15",
       "version_major": 2,
       "version_minor": 0
      },
      "text/plain": [
       "  0%|          | 0/148 [00:00<?, ?it/s]"
      ]
     },
     "metadata": {},
     "output_type": "display_data"
    },
    {
     "data": {
      "application/vnd.jupyter.widget-view+json": {
       "model_id": "d318d37a72dd42f8a387b39ef5a31aff",
       "version_major": 2,
       "version_minor": 0
      },
      "text/plain": [
       "  0%|          | 0/148 [00:00<?, ?it/s]"
      ]
     },
     "metadata": {},
     "output_type": "display_data"
    },
    {
     "data": {
      "application/vnd.jupyter.widget-view+json": {
       "model_id": "716ae8c2f5c74b19b730f80adfa12ddf",
       "version_major": 2,
       "version_minor": 0
      },
      "text/plain": [
       "  0%|          | 0/148 [00:00<?, ?it/s]"
      ]
     },
     "metadata": {},
     "output_type": "display_data"
    }
   ],
   "source": [
    "cds = CDS(\n",
    "    [1, 4, 8, 16, 32, 80, 160, 320, 1600],\n",
    "    \"jx\",\n",
    "    \"../out/\",\n",
    "    normalize=True,\n",
    "    transform=transforms.ToTensor(),\n",
    ")"
   ]
  },
  {
   "cell_type": "code",
   "execution_count": 100,
   "id": "45435e28-646d-4d66-bbe3-c3486566008f",
   "metadata": {},
   "outputs": [],
   "source": [
    "ac = nn.Sequential(\n",
    "    ConvXCoder((125, 133), 1, 4, 4, 3, \"cuda\"),\n",
    "    ConvXCoder((125, 133), 4, 1, 4, 3, \"cuda\"),\n",
    ")"
   ]
  },
  {
   "cell_type": "code",
   "execution_count": 101,
   "id": "b7d7ee78-488e-43a0-b530-dee66ed03f61",
   "metadata": {},
   "outputs": [
    {
     "data": {
      "application/vnd.jupyter.widget-view+json": {
       "model_id": "2c6a129f459d4bc4947b78dcb2f350f0",
       "version_major": 2,
       "version_minor": 0
      },
      "text/plain": [
       "  0%|          | 0/8 [00:00<?, ?it/s]"
      ]
     },
     "metadata": {},
     "output_type": "display_data"
    }
   ],
   "source": [
    "csc = Cascade(\n",
    "    ac,\n",
    "    [\n",
    "        f\"../models/convxcoder/{low}-{high}-3l-4c-new.pt\"\n",
    "        for low, high in zip(\n",
    "            [1, 4, 8, 16, 32, 80, 160, 320], [4, 8, 16, 32, 80, 160, 320, 1600]\n",
    "        )\n",
    "    ],\n",
    ")"
   ]
  },
  {
   "cell_type": "code",
   "execution_count": 102,
   "id": "e336dd65-6f8a-49c6-83c4-3c936a1d39b8",
   "metadata": {},
   "outputs": [],
   "source": [
    "x = next(iter(cds))"
   ]
  },
  {
   "cell_type": "code",
   "execution_count": 103,
   "id": "53f5e50a-11d6-4330-8c74-d136d9d5372b",
   "metadata": {},
   "outputs": [],
   "source": [
    "out = csc(x[0].cuda())"
   ]
  },
  {
   "cell_type": "code",
   "execution_count": 104,
   "id": "66a866d8-013d-4826-ba1c-780330aac83c",
   "metadata": {},
   "outputs": [],
   "source": [
    "im = csc.get_intermediates()"
   ]
  },
  {
   "cell_type": "code",
   "execution_count": 109,
   "id": "3be3aa5b-9eab-4b68-924e-0bf8ba2c2e64",
   "metadata": {},
   "outputs": [
    {
     "data": {
      "text/plain": [
       "8"
      ]
     },
     "execution_count": 109,
     "metadata": {},
     "output_type": "execute_result"
    }
   ],
   "source": [
    "len(x[1:])"
   ]
  },
  {
   "cell_type": "code",
   "execution_count": 107,
   "id": "bb4f31ad-3444-4f3c-a18b-19f77f497cdc",
   "metadata": {},
   "outputs": [
    {
     "data": {
      "text/plain": [
       "8"
      ]
     },
     "execution_count": 107,
     "metadata": {},
     "output_type": "execute_result"
    }
   ],
   "source": [
    "len(im)"
   ]
  },
  {
   "cell_type": "code",
   "execution_count": 110,
   "id": "8817afb2-ffed-47ec-92a3-29a777a34ef0",
   "metadata": {},
   "outputs": [],
   "source": [
    "loss_fn = MS_SSIM_L1_Loss(alpha=0.7)"
   ]
  },
  {
   "cell_type": "code",
   "execution_count": 122,
   "id": "22d62190-c4e9-4e12-8e60-72b0674e6a1b",
   "metadata": {},
   "outputs": [
    {
     "data": {
      "text/plain": [
       "torch.Size([8, 1, 1, 125, 133])"
      ]
     },
     "execution_count": 122,
     "metadata": {},
     "output_type": "execute_result"
    }
   ],
   "source": [
    "torch.stack(im).shape"
   ]
  },
  {
   "cell_type": "code",
   "execution_count": 112,
   "id": "e4c7ff12-a84d-4783-80b8-836ba6c3853c",
   "metadata": {},
   "outputs": [
    {
     "ename": "AttributeError",
     "evalue": "'list' object has no attribute 'shape'",
     "output_type": "error",
     "traceback": [
      "\u001b[0;31m---------------------------------------------------------------------------\u001b[0m",
      "\u001b[0;31mAttributeError\u001b[0m                            Traceback (most recent call last)",
      "Cell \u001b[0;32mIn [112], line 1\u001b[0m\n\u001b[0;32m----> 1\u001b[0m \u001b[43mloss_fn\u001b[49m\u001b[43m(\u001b[49m\u001b[43mx\u001b[49m\u001b[43m[\u001b[49m\u001b[38;5;241;43m1\u001b[39;49m\u001b[43m:\u001b[49m\u001b[43m]\u001b[49m\u001b[43m,\u001b[49m\u001b[43m \u001b[49m\u001b[43mim\u001b[49m\u001b[43m)\u001b[49m\n",
      "File \u001b[0;32m/scratch/gpfs/js5013/.conda/envs/main/lib/python3.10/site-packages/torch/nn/modules/module.py:1130\u001b[0m, in \u001b[0;36mModule._call_impl\u001b[0;34m(self, *input, **kwargs)\u001b[0m\n\u001b[1;32m   1126\u001b[0m \u001b[38;5;66;03m# If we don't have any hooks, we want to skip the rest of the logic in\u001b[39;00m\n\u001b[1;32m   1127\u001b[0m \u001b[38;5;66;03m# this function, and just call forward.\u001b[39;00m\n\u001b[1;32m   1128\u001b[0m \u001b[38;5;28;01mif\u001b[39;00m \u001b[38;5;129;01mnot\u001b[39;00m (\u001b[38;5;28mself\u001b[39m\u001b[38;5;241m.\u001b[39m_backward_hooks \u001b[38;5;129;01mor\u001b[39;00m \u001b[38;5;28mself\u001b[39m\u001b[38;5;241m.\u001b[39m_forward_hooks \u001b[38;5;129;01mor\u001b[39;00m \u001b[38;5;28mself\u001b[39m\u001b[38;5;241m.\u001b[39m_forward_pre_hooks \u001b[38;5;129;01mor\u001b[39;00m _global_backward_hooks\n\u001b[1;32m   1129\u001b[0m         \u001b[38;5;129;01mor\u001b[39;00m _global_forward_hooks \u001b[38;5;129;01mor\u001b[39;00m _global_forward_pre_hooks):\n\u001b[0;32m-> 1130\u001b[0m     \u001b[38;5;28;01mreturn\u001b[39;00m \u001b[43mforward_call\u001b[49m\u001b[43m(\u001b[49m\u001b[38;5;241;43m*\u001b[39;49m\u001b[38;5;28;43minput\u001b[39;49m\u001b[43m,\u001b[49m\u001b[43m \u001b[49m\u001b[38;5;241;43m*\u001b[39;49m\u001b[38;5;241;43m*\u001b[39;49m\u001b[43mkwargs\u001b[49m\u001b[43m)\u001b[49m\n\u001b[1;32m   1131\u001b[0m \u001b[38;5;66;03m# Do not call functions when jit is used\u001b[39;00m\n\u001b[1;32m   1132\u001b[0m full_backward_hooks, non_full_backward_hooks \u001b[38;5;241m=\u001b[39m [], []\n",
      "File \u001b[0;32m/scratch/gpfs/js5013/programs/cfilt/cfilt/utils.py:176\u001b[0m, in \u001b[0;36mMS_SSIM_L1_Loss.forward\u001b[0;34m(self, x, y)\u001b[0m\n\u001b[1;32m    175\u001b[0m \u001b[38;5;28;01mdef\u001b[39;00m \u001b[38;5;21mforward\u001b[39m(\u001b[38;5;28mself\u001b[39m, x, y):\n\u001b[0;32m--> 176\u001b[0m     b, c, h, w \u001b[38;5;241m=\u001b[39m \u001b[43mx\u001b[49m\u001b[38;5;241;43m.\u001b[39;49m\u001b[43mshape\u001b[49m\n\u001b[1;32m    177\u001b[0m     mux \u001b[38;5;241m=\u001b[39m F\u001b[38;5;241m.\u001b[39mconv2d(x, \u001b[38;5;28mself\u001b[39m\u001b[38;5;241m.\u001b[39mg_masks, groups\u001b[38;5;241m=\u001b[39m\u001b[38;5;241m1\u001b[39m, padding\u001b[38;5;241m=\u001b[39m\u001b[38;5;28mself\u001b[39m\u001b[38;5;241m.\u001b[39mpad)\n\u001b[1;32m    178\u001b[0m     muy \u001b[38;5;241m=\u001b[39m F\u001b[38;5;241m.\u001b[39mconv2d(y, \u001b[38;5;28mself\u001b[39m\u001b[38;5;241m.\u001b[39mg_masks, groups\u001b[38;5;241m=\u001b[39m\u001b[38;5;241m1\u001b[39m, padding\u001b[38;5;241m=\u001b[39m\u001b[38;5;28mself\u001b[39m\u001b[38;5;241m.\u001b[39mpad)\n",
      "\u001b[0;31mAttributeError\u001b[0m: 'list' object has no attribute 'shape'"
     ]
    }
   ],
   "source": [
    "loss_fn(x[1:], im)"
   ]
  },
  {
   "cell_type": "code",
   "execution_count": null,
   "id": "d8e86984-b6d1-4f3d-94a4-42deb303ce11",
   "metadata": {},
   "outputs": [],
   "source": []
  }
 ],
 "metadata": {
  "kernelspec": {
   "display_name": "Python 3 (ipykernel)",
   "language": "python",
   "name": "python3"
  },
  "language_info": {
   "codemirror_mode": {
    "name": "ipython",
    "version": 3
   },
   "file_extension": ".py",
   "mimetype": "text/x-python",
   "name": "python",
   "nbconvert_exporter": "python",
   "pygments_lexer": "ipython3",
   "version": "3.10.4"
  }
 },
 "nbformat": 4,
 "nbformat_minor": 5
}
